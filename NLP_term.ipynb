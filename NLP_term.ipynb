{
 "cells": [
  {
   "cell_type": "code",
   "execution_count": 109,
   "metadata": {
    "collapsed": true,
    "deletable": true,
    "editable": true
   },
   "outputs": [],
   "source": [
    "import json\n",
    "\n",
    "class Members(object):\n",
    "    \"\"\"docstring for Members\"\"\"\n",
    "    def __init__(self, datafile):\n",
    "        super(Members, self).__init__()\n",
    "        self.datafile = datafile\n",
    "\n",
    "        # load member data\n",
    "        with open(self.datafile) as jsonfile:\n",
    "            self.data = json.load(jsonfile)\n",
    "\n",
    "    def get_member_info_by_id(self, memberid):\n",
    "        return self.data[memberid]\n",
    "\n",
    "    def get_all_questions(self):\n",
    "        questions = []\n",
    "        for key, vals in self.data.items():\n",
    "            for q in vals['question']:\n",
    "                questions.append(q['message'])\n",
    "        return questions\n",
    "    \n",
    "    # get the question description\n",
    "    def get_questions(self):\n",
    "        for key, vals in self.data.items():\n",
    "            for q in vals['question']:\n",
    "                yield q['message']\n",
    "                \n",
    "    def get_question_info(self):\n",
    "        for key, vals in self.data.items():\n",
    "            for q in vals['question']:\n",
    "                yield q\n",
    "    \n",
    "    # get the description of question and corresponding replies\n",
    "    def get_question_reply(self):\n",
    "        for key, vals in self.data.items():\n",
    "            for q in vals['question']:\n",
    "                yield (q['message'], [rel['message'] for rel in q['reply'] ])\n",
    "\n",
    "    def get_questions_count(self):\n",
    "        count = 0\n",
    "        for key, vals in self.data.items():\n",
    "            for q in vals['question']:\n",
    "                count += 1\n",
    "        return count"
   ]
  },
  {
   "cell_type": "code",
   "execution_count": 110,
   "metadata": {
    "collapsed": true,
    "deletable": true,
    "editable": true
   },
   "outputs": [],
   "source": [
    "member = Members('member_data_filtered.json')"
   ]
  },
  {
   "cell_type": "markdown",
   "metadata": {
    "deletable": true,
    "editable": true
   },
   "source": [
    "## number of questions"
   ]
  },
  {
   "cell_type": "code",
   "execution_count": 36,
   "metadata": {
    "collapsed": false,
    "deletable": true,
    "editable": true
   },
   "outputs": [
    {
     "name": "stdout",
     "output_type": "stream",
     "text": [
      "22464\n"
     ]
    }
   ],
   "source": [
    "print(member.get_questions_count())"
   ]
  },
  {
   "cell_type": "markdown",
   "metadata": {
    "deletable": true,
    "editable": true
   },
   "source": [
    "## get first $n$ questions"
   ]
  },
  {
   "cell_type": "code",
   "execution_count": 37,
   "metadata": {
    "collapsed": false,
    "deletable": true,
    "editable": true
   },
   "outputs": [
    {
     "name": "stdout",
     "output_type": "stream",
     "text": [
      "完全聽不出來throughout?聽起來像through the well ?\n",
      "「by the way you perform」不是指被sth/sb動作,為甚麼這裡是指「因為」?\n",
      "再購買240堂課程.金額12'000.00...已於103/10/1日..時間22/00/26由郵局ATM轉帳到華南銀行..請查收..謝謝!\n",
      "請問在此句的\"into\"是不是略過不發音呢?\n",
      "我在中國大陸出差，並無法看到youtube，且無法上課，請問貴司要如何處理??\n",
      "will shakespeare\n",
      "為什麼wanna後面要用be getting而不是直接用wanna get to ... ??\n",
      "為什麼someone(第三人稱)後面是用were而不是was??\n",
      "後面if you want to be presenting in English不能是if you want to present in English\n",
      " timely  在這裡到底是指更久遠以前 還是更及時的意思?\n"
     ]
    }
   ],
   "source": [
    "count = 10\n",
    "index = 0\n",
    "for q in member.get_questions():\n",
    "    if (index >= count):\n",
    "        break\n",
    "    print(q)\n",
    "    index += 1"
   ]
  },
  {
   "cell_type": "markdown",
   "metadata": {
    "deletable": true,
    "editable": true
   },
   "source": [
    "## get first $n$ questions and replies"
   ]
  },
  {
   "cell_type": "code",
   "execution_count": 44,
   "metadata": {
    "collapsed": false,
    "deletable": true,
    "editable": true
   },
   "outputs": [
    {
     "name": "stdout",
     "output_type": "stream",
     "text": [
      "('完全聽不出來throughout?聽起來像through the well ?',\n",
      " ['可能是不大習慣小女孩說話的腔調，可以再搭配字幕多聽聽看幾次喔！習慣了之後就比較容易聽出來了。'])\n",
      "('「by the way you perform」不是指被sth/sb動作,為甚麼這裡是指「因為」?',\n",
      " ['by 除了「被」以外，也有「由於、因為」的意思喔，可以參考字典上的第 14 條解釋： '\n",
      "  'https://tw.dictionary.yahoo.com/dictionary?p=BY'])\n",
      "(\"再購買240堂課程.金額12'000.00...已於103/10/1日..時間22/00/26由郵局ATM轉帳到華南銀行..請查收..謝謝!\",\n",
      " ['您好，要麻煩您再到課程開通頁面： https://www.hopenglish.com/course/products  '\n",
      "  '填寫課程開通單，我們會盡快為您處理。 感謝您的購買！'])\n",
      "('請問在此句的\"into\"是不是略過不發音呢?',\n",
      " ['是有的喔，只是比較輕、語速也比較快。可能需要搭配字幕多聽幾次看看。練口說時也不能忽略，要清楚地唸出來喔！可以參考咬字比較清楚的老師朗讀。'])\n",
      "('我在中國大陸出差，並無法看到youtube，且無法上課，請問貴司要如何處理??',\n",
      " ['攻其不背課程需要有穩定網路以及未遭阻擋的環境使用。若您在大陸無法觀看 YouTube '\n",
      "  '影片，則暫時無法學習。請您出差結束後繼續把握時間學習。若學習效期需要協助延長，請來信 service@hopenglish.com '\n",
      "  '說明您的情況，專人會為您服務，謝謝。',\n",
      "  '請問課程到期前是否會有通知?',\n",
      "  '您好！不會另行通知喔，如果有課程期限方面的問題，歡迎來信至 service@hopenglish.com 詢問，並附上您的學習帳號，謝謝您！'])\n",
      "('will shakespeare',\n",
      " ['這裡是想知道這個人名「莎士比亞」怎麼發音嗎？可以參考以下影片發音練習喔： '\n",
      "  'https://www.youtube.com/watch?v=Q1doNjcwn6w'])\n",
      "('為什麼wanna後面要用be getting而不是直接用wanna get to ... ??',\n",
      " ['這裡是在 want to 後面加上現在進行式（be 動詞+現在分詞）的用法，有「一直做、到未來也要做這件事」的口吻。  當然也可以只用 want to '\n",
      "  'get to know，只是口氣上有些微差別而已，但兩種表達方式大致意思是一樣的。'])\n",
      "('為什麼someone(第三人稱)後面是用were而不是was??', ['您好！因為這裡是假設語氣用法，不管主詞是誰，都是搭配 were 喔。'])\n",
      "('後面if you want to be presenting in English不能是if you want to present in '\n",
      " 'English',\n",
      " ['這裡其實也可以寫作 want to present in English 。為何在這裡他會說 want to be presenting 而不是 '\n",
      "  'want to present ，是因為兩者有些微的差異。  ...if you want to be presenting in English. '\n",
      "  '包含「現在以及未來」用英文表達的意思；然而，want to present '\n",
      "  '僅僅表達出「現在」用英文表達的意思。原則上在意義上沒有太大差異，但如果要深究的話，有如此區別，可以依照您所想表達的意思選擇。'])\n",
      "(' timely  在這裡到底是指更久遠以前 還是更及時的意思?',\n",
      " ['表示這個迷思、這幅畫的出現是很恰逢其時的。那舉個類似的用法，例如在足球比賽中，有球員在關鍵時刻進了一球，就會說是 a timely '\n",
      "  'goal（及時的一球、及時的得分）。'])\n",
      "('這句子裡的where 是什麼作用?',\n",
      " ['是關係代名詞，引領關係子句，補充說明前面的 childhood。另外也可以參考以下我們整理的教學專欄喔： '\n",
      "  'https://www.hopenglish.com/understanding-relative-pronouns-2 '])\n",
      "('為何在此句子裡有兩次to出現?  可以是以下這兩種說法嗎  you can start to make new friends 或是you can do '\n",
      " 'to start make new friends',\n",
      " ['這裡還是要有 do 比較正確喔！因為前面修飾的詞是 a few things，things 是需要去 do 的。我們先改成一般直述句，會看到是：  '\n",
      "  'You can do a few things to start to make new friends.  如果沒有 do，就會變成：  You '\n",
      "  'can start to a few things make new friends.  這樣結構完全不對囉！因此不能這樣改寫。'])\n",
      "('這裡的blows 為何要加\"s\"',\n",
      " ['您好！因為主詞是前面的 the first one，是單數動詞，因此要用第三人稱單數形式的動詞，所以是 blows 喔！'])\n",
      "('And the first one  kind of  blows people out of the water. 請問這段話我聽發音KID '\n",
      " 'OF的OF好像不見了?但後面PEOPLE OUT OF得OF又有聽出來..外國人在念KID OF BLOWS是自動把OF去掉不念嗎??',\n",
      " ['英文是一種「重實輕虛」的語言，像是形容詞、介係詞、連接詞之類不影響句義的字，通常都不大會著重在其發音，會很迅速、或是和其他音連在一起這樣帶過。  '\n",
      "  '在課程中，如果聽不出來，可能就需要搭配字幕、調高音量再多聽聽幾次。碰到的時候就多留意，慢慢累積到一定程度之後，自然就比較能分辨囉！',\n",
      "  '請問要去哪裡看我上課所做的筆記?',\n",
      "  '您好！您目前還在進行系統免費贈送的暖身課程。當您完成暖身課程後會進入正式課程，查過的單字會出現在「學習成果」，學完的課程也會出現在「學習記錄」中，讓您可以複習，那邊也可以找到您的筆記和發問的問題喔！'])\n",
      "(\"Why the word of thought's pronunciation in this sentence is different to \"\n",
      " 'others ?',\n",
      " [\"The pronunciation here is correct and really common. What do you mean it's \"\n",
      "  'different from others? Thank you.'])\n",
      "('entrepreneurs 好難念喔 ',\n",
      " ['確實有點困難，以下影片的發音非常清楚，還有音節拆解，可以跟著影片多練習喔： '\n",
      "  'https://www.youtube.com/watch?v=FXb0PjFAmqw'])\n",
      "('philanthropist 要怎麼念才會順啊？',\n",
      " ['可以參考以下發音連結： https://www.youtube.com/watch?v=RUbbDGn_yow  可以將這些音節這樣分開練習： '\n",
      "  'phi-lan-thro-pist  慢慢練習應該就會唸得比較順囉！ '])\n",
      "('this 跟these 的差別是什麼呢？', ['this 是「這個」，所指稱的事物是單數，these 是「這些」，所指稱的事物是複數喔！'])\n",
      "('significant這裡是啥意思',\n",
      " ['significant 在這裡是形容詞「相當數量的、影響明顯的」的意思，可以參考以下字典中的例句：  A significant number of '\n",
      "  'drivers fail to keep to speed limits.  有相當多的司機不遵守車速限制。  A background in '\n",
      "  'computing will give you a significant advantage.  電腦專業的背景將是你的一大優越條件。'])\n",
      "('just the right way這裡的just是啥意思?     還有能改成in the right way 嗎?',\n",
      " ['just 類似中文的「就」，是一種加強語氣的副詞，省略不看也沒關係。那這裡改寫成 in the right way 也完全沒問題喔！'])\n",
      "(' is try to shop along the edges. 為啥is後面能直接接動詞try',\n",
      " ['您好！這種句型有很多種表達方式，可以像這裡用： ...is try to shop along the edges.  但中間其實省略了 '\n",
      "  'to，原本應該是： ...is to try to shop along the edges.  也可以用： ...is trying to shop '\n",
      "  'along the edges.  還記得暖身課程有一句：  The most important thing is just keep '\n",
      "  'practicing.  這裡也是相同應用喔，當然寫上 to、或是改寫成 is just keeping 也是沒問題的。  '\n",
      "  '以下再提供您幾個這類的句型： What you can do is (to) + 原形動詞... All you have to do is (to) '\n",
      "  '+ 原形動詞... The most important thing is (to) + 原形動詞...'])\n",
      "('whole foods為啥要加s   food不是不可數嗎?', ['food 也可當做可數名詞，表示很多種食物喔。'])\n",
      "('most people wanna go get a quart of milk為啥不是most people wanna go \"to\" get a '\n",
      " 'quart of milk',\n",
      " ['這裡是因為口語上的表達方式，因此 go 後面直接加上動詞 get，這在口語上很常聽到。如果是正式書寫，要寫成 go to get 才正確喔！'])\n",
      "('me後面為啥可以直接  接the partners',\n",
      " ['這裡中間省略了 that，原本是： And it was amazing to me \"that\" the partners that started '\n",
      "  'to rally around us...  因此才會看到 that 後面直接接上 the partners 喔！'])\n",
      "('這裡的or可以改成and嗎? 如果變成and結果又是如何?',\n",
      " ['您好！這裡最正確的寫法確實是要用 and 喔，這裡是因為比較口語，另一方面也是廣告上的用詞，所以比較沒有遵循正確說法。當用 between '\n",
      "  '的時候，最正確的用法的確是 between A and B 才對喔。'])\n",
      "('這句 is being placed on top of the card that you just showed和這句.is now '\n",
      " 'secretly in the middle的主詞都是that coin嗎?',\n",
      " ['是的，這邊您的理解沒錯喔！',\n",
      "  '那為甚麼第2句的主詞可以不用寫出來,是口語上念起來比較順暢嗎?that coin is being placed on top of the card '\n",
      "  'that you just showed...is now secretly in the middle.  ',\n",
      "  '這裡就是因為是比較口語的隨性用法，也因此我們用「...」這個符號呈現，口語上時常是想到什麼就講什麼，所以有時候句子比較零碎不完整，這裡如果是正式寫作的話，可能要加上連接詞比較完整：  '\n",
      "  '...that coin is being placed on top of the card that you just showed, and '\n",
      "  'is now secretly in the middle.'])\n",
      "('placing為啥要ing    為何不是place',\n",
      " [\"這裡跟前面共用一組主詞和動詞 you're，所以後面的 place 要改寫為現在分詞形式 placing 喔。\"])\n",
      "(' then在這是啥用法',\n",
      " ['您好！then 在這裡是副詞「接著、然後」的意思，可以參考 then 在字典上的第二條解釋喔： '\n",
      "  'https://tw.dictionary.yahoo.com/dictionary?p=then'])\n",
      "(' underneath 在這是什麼詞性',\n",
      " ['您好！underneath 在這裡是介係詞喔，可以參考字典上的第一條解釋： '\n",
      "  'https://tw.dictionary.yahoo.com/dictionary?p=underneath'])\n",
      "('less chucking, more recycling makes you not a bozo. less chucking, more '\n",
      " 'recycling是主詞嗎?  還有變成ing是因為動名詞當主詞的關係嗎?',\n",
      " ['是的，您的理解沒錯喔！'])\n",
      "('just 在這的用法要怎麼說?  would在這句要怎麼翻  ',\n",
      " ['1. just 在這裡就是口語上「就這樣、就」的意思，像這裡 just chuck all this stuff '\n",
      "  '就是「就這樣丟掉所有這東西」的意思。那其實省略也不影響句意喔！  2. would 可以參考字典上的第四條解釋喔： '\n",
      "  'https://tw.dictionary.yahoo.com/dictionary?p=would'])\n",
      "('這裡的could可以用can嗎?', ['可以的！口語上常常會將 could 用在現在式，但要改成 can 也是完全沒問題的喔！'])\n",
      "('Maybe somebody would want them.為甚麼要用would',\n",
      " ['這裡可以參考 would 在字典上的第四條解釋喔： '\n",
      "  'https://tw.dictionary.yahoo.com/dictionary?p=would'])\n",
      "(\" you've ever really known about you這裡為啥可以同時用really 和ever,是為了強調嗎?可以只用一個嗎?\",\n",
      " ['兩個的意思是不一樣的，放在一起不相衝突喔！ever 是「曾」的意思，really '\n",
      "  '則是「真正地」的意思。兩個都是修飾用的詞，因此要省略就文法上來說是沒問題的喔。'])\n",
      "('like that為啥要有that',\n",
      " ['這裡的 that 是當做連接詞，因為 like 後面要承接有主詞、有動詞的完整句子，因此要加上 that 才能連接喔。可以參考 that '\n",
      "  '在字典上作為連接詞的第一條解釋： https://tw.dictionary.yahoo.com/dictionary?p=that'])\n",
      "(\"you've always wanted to為甚麼這樣用完成式\",\n",
      " ['這裡用完成式是表示你「一直以來」都很想要的口吻，當然用現在式也可以，只是口氣上有些微差別。'])\n",
      "(\"when they say it gets better  為啥get要加s   that's probably the last thing you \"\n",
      " \"wanna hear right now.這裡的that's=that is嗎?\",\n",
      " ['1. 因為主詞是 it，為第三人稱單數名詞，所以 get 也要改寫成 gets 喔。  2. 是的，您的理解完全正確喔！'])\n",
      "('how long they were in it for這句話是什麼意思? 之前沒看過這種結構 they were in it for',\n",
      " ['您好！  這裡先看一般句子的用法，如果是一般直述句的話，我們通常會說：  I have been working here for three '\n",
      "  'years.（我已經在這裡工作三年了。）  通常 for 後面會加上一段時間，表示某件事、或某個動作持續了多少時間。  '\n",
      "  '這裡要問「持續了多少時間這件事」，因此從原本的 they were in it for how long，改寫成問句形式：how long they '\n",
      "  'were in it for。所以才會看到現在這個句子喔！'])\n",
      "('Every single thing可以省略single嗎?   還有這裡的single要如何解釋  has since impacted  '\n",
      " '這裡的since是什麼意思呀  感覺不是\"自從或因為\"的意思 還有為啥since可以放那個位置',\n",
      " ['這裡省略 single 是沒問題的，那要注意要改寫成代名詞 everything。加上 single 是強調「每『一』件事」。  這裡 since '\n",
      "  '是副詞，可以先參考 since 在字典上作為副詞的第一條解釋和例句： '\n",
      "  'https://tw.dictionary.yahoo.com/dictionary?p=since  副詞通常放在要修飾的詞前面，因此這裡放在 '\n",
      "  'impacted 前面是沒問題的喔。'])\n",
      "('nodding加ing是因為and的關西嗎',\n",
      " [\"這裡要配合前面 that's making really great eye contact 一起看，可以看到主詞和動詞其實是 \"\n",
      "  \"that's，所以後面完整一點應該是：  ...and maybe that's nodding your head as you speak to \"\n",
      "  \"show that you're listening.  跟 and 不大有直接關係喔。\"])\n",
      "('這裡的 letting 加ing是因為also的關係嗎?  You wanna be getting to know a person 是未來進行式吧?',\n",
      " ['並不是因為 also 的關係喔，是因為接續了前面的 wanna be，完整一點應該是： ...and you also wanna be '\n",
      "  'letting that person get to know you.  因為和前面共用一個 wanna be，所以後面省略。  這裡因為沒有 '\n",
      "  'will，所以不算是未來進行式，但現在進行式本身也有未來的意涵喔。'])\n",
      "('started out=start嗎?  兩個不都是開始的意思  head這為啥是前往的意思',\n",
      " ['1. start out 當做「開始」的意思時，和 start 的意思是一樣的，通常寫作 start out to do '\n",
      "  'something，交替使用是沒問題的。  但另外 start out 還有「出發」的意思，這就是 start 沒有的意思，這時候就不能交替使用囉！  '\n",
      "  '那要特別注意的是，這裡其實是口語上比較簡略的說法，正式書寫應該要加上 with 比較正確，寫作：  My day started out with '\n",
      "  'walking my dog... 表示『用』溜狗開始我的一天。  2. head 可以當做動詞，是「前往」的意思，head to / for + '\n",
      "  '地點，就是「前往某地」的意思。這裡說的 headed to the office 就是「前往辦公室」的意思。'])\n",
      "('If someone were to ask me how I am today 為啥要用were',\n",
      " ['這裡是假設語氣的用法，因此不論主詞為何，所搭配的 be 動詞都是 were。If someone were to do something '\n",
      "  '就是「如果某人要做某事」的意思。'])\n",
      "('any given day這個可以解釋一下嗎?  我不懂為何要加  given',\n",
      " ['given 是「特定的」的意思，any given day 就是「任何特定的一天」，這裡 on any given day '\n",
      "  '就是說「任何特定的一天、任何特定的日子」的意思。  可以參考以下字典連結喔： '\n",
      "  'https://tw.dictionary.yahoo.com/dictionary?p=given'])\n",
      "(' be making friends 這裡是未來進行式嗎?   throughout 這裡昰介係詞嗎',\n",
      " ['您好！  1. 是的，這裡用 going to be making friends 表示現在、未來都會要去交朋友的意思，有動作延續的口吻。當然直接寫成 '\n",
      "  \"we're going to make friends 也是完全沒問題的，只是口吻上有一些些差別而已。  2. throughout \"\n",
      "  '在這裡是介係詞沒錯喔，另外也可以參考字典上第 1 條解釋： '\n",
      "  'https://tw.dictionary.yahoo.com/dictionary?p=throughout '])\n",
      "('be presenting 為啥要加ing',\n",
      " ['您好！  這裡其實也可以寫作 want to present in English 。為何在這裡他會說 want to be presenting '\n",
      "  '而不是 want to present ，是因為兩者有些微的差異。  ...if you want to be presenting in '\n",
      "  'English. 包含「現在以及未來」用英文表達的意思；然而，want to present '\n",
      "  '僅僅表達出「現在」用英文表達的意思。原則上在意義上沒有太大差異，但如果要深究的話，有如此區別，可以依照您所想表達的意思選擇。'])\n",
      "(\"you'll be speaking 為甚麼speak要加ing 還有這句要如何解釋\",\n",
      " [\"這裡是「未來進行式」的用法，表示某一動作將會、或可能在未來某一時刻進行或持續進行中。  you'll be speaking \"\n",
      "  \"就是「你未來、以後都會這樣說」的意思。  這裡用 you'll speak 當然也沒有問題，只是語意上有些許差別而已。\"])\n",
      "('be too far removed from的解釋是和某物非常不同 中文翻譯為何是相去不遠',\n",
      " ['因為前面有 not 喔，是 not be too far removed from，和某物沒有非常不同的話，就是相去不遠。'])\n",
      "('accent ',\n",
      " ['提供您以下的影片參考： https://www.youtube.com/watch?v=o-Jyb5MPuiM  多聽多練習，自然就能念順囉！'])\n",
      "(\"想請問一下  you've mastered  這個HAVE跟 -ED 要怎麼發音啊? \"\n",
      " '聽不太清楚到底有沒有發出HAVE跟ED的聲音...感覺過去式或是+s的聲音都聽不太清楚....謝謝!',\n",
      " [\"您好！  you've 的發音可以先參考以下影片連結： https://www.youtube.com/watch?v=_EtLX6sC4CQ  那 \"\n",
      "  'mastered 則可以參考以下影片連結： https://www.youtube.com/watch?v=5K7FRiaIEc4  '\n",
      "  '多聽多練習，自然就能念順囉！'])\n"
     ]
    }
   ],
   "source": [
    "import pprint\n",
    "count = 50\n",
    "index = 0\n",
    "for q in member.get_question_reply():\n",
    "    if (index >= count):\n",
    "        break\n",
    "    pprint.pprint(q)\n",
    "    index += 1"
   ]
  },
  {
   "cell_type": "markdown",
   "metadata": {
    "deletable": true,
    "editable": true
   },
   "source": [
    "## filter pronounciation related questions"
   ]
  },
  {
   "cell_type": "code",
   "execution_count": 80,
   "metadata": {
    "collapsed": false,
    "deletable": true,
    "editable": true
   },
   "outputs": [
    {
     "name": "stdout",
     "output_type": "stream",
     "text": [
      "1392\n"
     ]
    }
   ],
   "source": [
    "nonpron_questions = []\n",
    "pron_questions = []\n",
    "for q in member.get_questions():\n",
    "    if '聽' in q or '發音' in q:\n",
    "        pron_questions.append(q)\n",
    "        continue\n",
    "#     nonpron_questions.append(q)\n",
    "print(len(pron_questions))"
   ]
  },
  {
   "cell_type": "code",
   "execution_count": 114,
   "metadata": {
    "collapsed": false,
    "deletable": true,
    "editable": true
   },
   "outputs": [
    {
     "name": "stdout",
     "output_type": "stream",
     "text": [
      "163\n"
     ]
    }
   ],
   "source": [
    "filters = '完成式'\n",
    "filtered_questions = []\n",
    "for q, replies in member.get_question_reply():\n",
    "    if filters not in q:\n",
    "        continue\n",
    "#     for r in replies:\n",
    "#         if filters not in r:\n",
    "#             continue\n",
    "    filtered_questions.append((q, replies))\n",
    "print(len(filtered_questions))"
   ]
  },
  {
   "cell_type": "code",
   "execution_count": 115,
   "metadata": {
    "collapsed": false,
    "deletable": true,
    "editable": true
   },
   "outputs": [
    {
     "name": "stdout",
     "output_type": "stream",
     "text": [
      "[(\"you've always wanted to為甚麼這樣用完成式\",\n",
      "  ['這裡用完成式是表示你「一直以來」都很想要的口吻，當然用現在式也可以，只是口氣上有些微差別。']),\n",
      " ('這句後面為什麼要加 been，是現在完成式但簡化了嗎？',\n",
      "  ['是的，這裡要看前一句： Because not all women have been afforded the same rights that '\n",
      "   'I have.   那這裡要表達的其實是： ...very few have been afforded the same rights that '\n",
      "   'I have.  因為前面已經提過了，所以後面就簡短帶過。']),\n",
      " (\"I've been Molly from Jobaroo, and those have been our Working Holiday Visa \"\n",
      "  \"dos and don'ts. 這句說我是Molly時 為何要用完成式而不直接說I'm Molly\",\n",
      "  [\"這裡的意思和 I'm Molly 是一樣的。這裡用完成式是要強調這部影片從頭到尾都是 Molly \"\n",
      "   '為各位解說，這種用完成式的用法的確比較少見，用一般現在式是完全沒有問題的喔。']),\n",
      " ('and after we had heard her, and after we had developed the organs of '\n",
      "  'articulation, we began to imitate our mom. 為何用過去完成式?',\n",
      "  ['這整句都是在講過去的事，可以看到後面說 we began to imitate our '\n",
      "   'mom（我們開始模仿我們的母親），那在模仿之前已經做過什麼事呢？我們已經聽到她 (had heard her)、已經發展發聲器官 (had '\n",
      "   'developed the organs of '\n",
      "   'articulation)，正因為這些事在過去已經完成了，所以我們才能模仿我們的母親。所以這裡用過去完成式，來表達時間的先後順序。']),\n",
      " ('請問為什麼這句一開始用現在完成式 一下又用過去式? have had to quit .......or were fired ? 時態不是要統一嗎',\n",
      "  ['因為這裡是相當口語的表達方式，想到什麼就說什麼，有時候前後的時態可能會不一致，所以才會出現這樣的狀況。正式書寫時要統一比較好喔！']),\n",
      " (\"sure you've got your story straight. 想請問這裡為什麼要用完成式呢?\", ['強調已經完成的動作喔。']),\n",
      " ('請問這裡There have been people that said that I couldn 為什麼要用完成式呢? 謝謝',\n",
      "  ['這裡只是想強調從過去到現在一直有人認為的這個現象，是想強調這件事情的「持續性」，但是如果要用一般現在式來改寫也是可以的，只是口吻上的差異而已喔！']),\n",
      " (' the Minnesota Child Protection League has questioned '\n",
      "  '想請問為什麼這裡要用現在完成式，不行單純把question當成一般動詞?',\n",
      "  ['因為要強調已經做了這個動作，所以用完成式。如果不用完成式的話，因為是已經做過的動作，因此建議用過去式喔。']),\n",
      " (\"I've been Molly << 為何要用 現在完成式呢?  為何不說 I'm Molly ??\",\n",
      "  [\"這裡的意思和 I'm Molly 是一樣的。這裡用完成式是要強調這部影片從頭到尾都是 Molly \"\n",
      "   '為各位解說，這種用完成式的用法的確比較少見，用一般現在式是完全沒有問題的喔。']),\n",
      " ('have worked hard << 為何用現在完成式?  不能只是  you \"worked\" hard for it , and you '\n",
      "  'deserve it.',\n",
      "  ['因為強調「你『已經』努力過了」因此使用完成式呈現，如果是 you worked hard '\n",
      "   '就只是單純敘述你過去努力過了，沒有強調動作完成的口吻喔。但就文法上來說，兩種寫法都是可以的。']),\n",
      " ('可以解析 there were times when it seemed like the cliche sorority girl may have '\n",
      "  'felt something for the typical, awkward freshman. 想知道 There were times when '\n",
      "  '的用法 及過去式搭配現在完成式的意義',\n",
      "  ['這裡要這樣看： I swear 我發誓，發誓什麼呢？there were times 有些時候，那後面說明是什麼時候：when it seemed '\n",
      "   'like (that) the cliche sorority girl have felt for '\n",
      "   'something，似乎這個典型的姊妹會女孩對某些事有感覺，那對什麼有感覺呢？for the typical, awkward '\n",
      "   'freshman，對這個典型、奇怪的大一生有感覺。  '\n",
      "   '因此這裡是講者說，他發誓，有些時候，那個典型姊妹會的女生，對他這個典型、奇怪的大一生也有些感覺。  因此可以看到 There were times '\n",
      "   'when 並不是一起看的，when 後面所引領的關係子句是用以修飾前面的 times。  '\n",
      "   '這裡過去式搭配完成式沒有特殊的意義，就只是講者的用字選擇。請問是哪邊的用法讓你比較不理解呢？謝謝！']),\n",
      " ('which would have been easy if I had a dictionary 可以寫成\"which would be easy '\n",
      "  'if I had a dictionary\"，為什麼原文中要用完成式? ',\n",
      "  ['這裡是用過去完成式呈現，因為前面說 I went to look up what \"commencement\" meant '\n",
      "   '這句話是過去式，而後面要表達的 which would have been easy if I had a dictionary '\n",
      "   '是在假設，如果我有本字典這件事發生在我要查 commencement '\n",
      "   '這個字之前的話，那一切就簡單多了，可以看到「有字典」這件事，依照假設應該是要發生在「查單字」這件事之前的，而前面「查單字」這件事是以過去式，因此這裡用過去完成式表達它的時間點在過去式之前，所以才會使用過去完成式喔。',\n",
      "   '那可以寫成which would be easy if I had had a dictionary嗎?',\n",
      "   '這樣表達也是可以的喔！']),\n",
      " (\"Especially in business,  you've got to be able to learn how to articulate \"\n",
      "  'your message. 這邊為麼要使用完成式？ 還是可以改成 you have  to be.......',\n",
      "  ['have got to 是一種慣用的說法，和 have to 同義，因此這樣改寫是完全沒有問題的。但是要注意的是，have got to '\n",
      "   '比較不正式，是口語用法，正式寫作上還是要使用 have to 比較妥當。']),\n",
      " ('請問having them vaccinated是完成式嗎',\n",
      "  ['have something + 過去分詞 是「讓某事物被...」的意思，這裡 having them vaccinated '\n",
      "   '就是「讓他們被注射疫苗」的意思。那因為放在介係詞 about 後面，介係詞後只能接上名詞/動名詞，因此原本 have 要改寫成 having '\n",
      "   '喔。  ']),\n",
      " (\"that's been designed 是被動完成式嗎?\",\n",
      "  ['沒錯，這裡是 that has been designed 的縮寫，是完成式+被動式的用法，強調已經完成的動作，表示一直以來都是這樣設計的。  '\n",
      "   '拆開來看就是：  that 主詞 has 完成式中的助動詞 been 完成式中的過去分詞+被動式中的 be 動詞 designed '\n",
      "   '被動式中的過去分詞']),\n",
      " ('請問have banded是完成式嗎?使用時機??',\n",
      "  ['沒錯，是完成式喔！這裡用完成式強調已經完成的動作，那要用一般過去式也是沒問題的喔。什麼時候要使用端看語句要怎麼樣表達喔。']),\n",
      " (\"that you've asked me here 那這裡為何又是用完成式呢?\",\n",
      "  ['因為那間學校「已經」邀請 Ellen 過來了，因此用完成式呈現。如果不用完成式的話，也建議要用過去式，因為這個動作已經在過去完成囉。']),\n",
      " (\"If it hadn't been for his help, we wouldn't have finished our project. we \"\n",
      "  \"wouldn't have finished our project. 這句為什麼用完成式呢? 代表順序嗎?\",\n",
      "  ['這裡整句是假設語氣的運用，比較不熟悉的話，可以參考以下影片，應該會有更清楚的認識喔：  '\n",
      "   'https://www.hopenglish.com/third-conditional ']),\n",
      " ('which would have been easy 為何要用完成式呢?',\n",
      "  ['would have been easy 運用的是假設語氣，「would have + '\n",
      "   '過去分詞」這種用法是用以表達「過去可能會、當時原本會...(但最後其實沒有)」的意思。  which would have been easy if '\n",
      "   'I had a dictionary 這裡要表達的意思就是，如果他當時有本字典的話，那事情就會簡單許多了。 '\n",
      "   '(但事實就是他那時根本沒字典，所以那件事其實是困難的)']),\n",
      " ('but he still had the plastic bricks that he had received at the fair. that '\n",
      "  'he had received at the fair. 這裡單純用過去式可以嗎? that he received at the fair.  '\n",
      "  '在如果可以的前提下...那我的疑問是.. 在英文中什麼時候用過去式...什麼時候用過去完成式..在英文中是比較常見的呢? '\n",
      "  '因為如果是我..我這句我就不會想到要用完成式0.0..我一定只會用過去式就結束了  ',\n",
      "  ['其實要用單純過去式也可以喔！但是這裡是要強調時間發生先後順序，可以看到他先去了博覽會、後來才有塑膠磚塊，所以先發生的用過去完成式呈現；後發生的用一般過去式。']),\n",
      " ('Ole had gotten an idea. 用過去完成式代表甚麼呢?',\n",
      "  ['用一般過去式也可以喔，這裡用過去完成式強調在過去那個時間「已經」有了一個點子，但用一般過去式也不會影響文意傳達。']),\n",
      " (\"If you've been wondering about those black stripes on the casings \"\n",
      "  '完成式+進行式是為了強調嗎?',\n",
      "  ['是用來表示從過去到現在，當下仍然在進行的動作。']),\n",
      " ('I believe that mankind has looked at climate change in that same way '\n",
      "  '用完成式..是代表持續性嗎?',\n",
      "  ['對的！這邊是用完成式強調「已經、延續進行的動作」。']),\n",
      " ('Archaeologists have even uncovered  為何用完成式呢?',\n",
      "  ['完成式是為了表達由過去到現在這一段時間所完成的事情，現在完成式的用法，可以參考我們的專欄教學喔：https://www.hopenglish.com/english-language-learning-tips-tenses-part-2-2?ref=search']),\n",
      " (' have taken part in a simultaneous unveiling of the 25th-anniversary image '\n",
      "  '請問這裡用完成式的用意是?',\n",
      "  ['因為影片製作的當下還在持續這個活動，因此運用現在完成式呈現喔。']),\n",
      " ('She had just had to 用完成式是為了強調已做完嗎? 那加一個just是為了甚麼呢?',\n",
      "  ['1. 是的，是用來強調在過去某段時間就完成的事情。  2. 這裡的 just '\n",
      "   '類似口語上的「就」，使用來修飾口氣用的副詞，但就文法結構上來說，捨去也不影響完整性。']),\n",
      " ('that has been basking  用完成式再加上進行式有特別要強調甚麼嗎?',\n",
      "  ['表示一直持續下去的口吻喔，表示他們已經晒了二十年太陽，未來也還會一直繼續晒下去。']),\n",
      " ('The holiday has been associated with American football 為什麼用完成式呢?',\n",
      "  ['這裡使用「現在完成式」「have + 過去分詞」 '\n",
      "   '的用法，表示從過去到現在這個時間點完成的動作，是為了要描述一件事情的持續性，而不是以時間點來判斷，因此才會使用這個時態。']),\n",
      " ('His inspiration is believed to have come from a university student '\n",
      "  'directory 為何這裡要用完成式呢?',\n",
      "  ['這裡就是講者的用字選擇不同而已，因為要強調的是「已經」完成的動作，所以用完成式呈現。那當然要用一般現在式就文法上來說也是沒問題的喔。']),\n",
      " ('We found she had left off our names by mistake. 這裡為何也是用完成式呢?',\n",
      "  ['因為  she had left off our names 這件事是發生在 we found '\n",
      "   '之前的，因此較早發生的事用過去完成式呈現，後來發生的事用一般過去式呈現，表達時間先後的順序。']),\n",
      " (\"you've even begun. 為何這裡要用完成式?\",\n",
      "  [\"這裡其實用現在式：...it's easy to give up before you begin. \"\n",
      "   '也是沒問題的喔！這裡用完成式是用來強調，在你甚至「已經」開始之前，很容易就會放棄，用來強調動作完成的語氣。但大致上要表達的內容跟現在式是一樣的喔！']),\n",
      " (\"that's been designed  這裡的's是has嗎? 如果是為什麼還要加個been呢? 跟現在完成式有甚麼不同?\",\n",
      "  ['您好！沒錯，這裡是 that has been designed 的縮寫，是完成式+被動式的用法，強調已經完成的動作，表示一直以來都是這樣設計的。  '\n",
      "   '拆開來看就是：  that 主詞 has 完成式中的助動詞 been 完成式中的過去分詞+被動式中的 be 動詞 designed '\n",
      "   '被動式中的過去分詞']),\n",
      " ('目前對於Have的用法有點困擾  that has happened  這算過去完成式嗎?用has是因為第三人稱? has '\n",
      "  'since那這裡的用法是?這裡一定要加上has嗎?',\n",
      "  ['您好！這裡兩個都是現在完成式喔，表示已經完成的動作。  後面的 since 是插入的副詞，先不看，可以看到是 has '\n",
      "   'impacted，其實結構和前面的 has happened 是一樣的喔。']),\n",
      " ('想請問一下文法講解的部分   Business was getting busier, so Jerry started helping out '\n",
      "  'his dad after school. \"事業變得越來越忙碌\" 為何用過去進行式呢?  可不可以改成完成式?',\n",
      "  ['過去進行式是用來表示當下持續在進行中的狀態，這種使用是很常見的喔！那當然如果要用完成式也是沒問題的，就是每人用字選擇不同囉。']),\n",
      " ('have everything explained 是現在完成式嗎?', ['已收到稍後留言。']),\n",
      " (\"You are where I love, because I'd go anywhere just to be with you  just to  \"\n",
      "  'be with you   還是just   tobe  with  you 用法不大理解?  Now that  found each other, '\n",
      "  \"you've  my past a future meaning. 此句為什麼要使用完成式呢?  謝謝囉:)  \",\n",
      "  [\"just to be with you 是「只是為了要跟你一起」的意思，並沒有 tobe 這個字喔！  Now that we've found \"\n",
      "   \"each other, you've given my past a future meaning.  \"\n",
      "   '這裡使用完成式要強調「已經」的意思，表示現在我們「已經」找到彼此了，妳「已」給了我的過去一個未來的意義。']),\n",
      " ('老師，請問本句前半段是現在完成式，後半段是否因為has已經在前半句有了，所以也是現在完成式呢？',\n",
      "  ['沒錯！前後兩句共用前面一個助動詞 has，因此後面省略。英文中因為要避免同樣的字一直出現，有許多這種省略的用法喔。']),\n",
      " ('Once the story has concluded 為什麼不能用過去式，而要用現在完成式？',\n",
      "  ['因為要表達從過去延續到現在，而現在終於結束的口吻，因此用完成式才能呈現喔。']),\n",
      " ('I was like, 中文翻譯跟我的理解不一樣, 請問這是特別用法嗎? 整句都是過去式, 為何Why 之後接的是現在式, 而非過去完成式? was '\n",
      "  'gone? ',\n",
      "  ['1. 這是非常口語的用法，照字面上來看會是「我就想這樣、我就像這麼說」一樣，其實意思就是要說「我就這樣想、我就這麼說」。  '\n",
      "   '這是非常口語的用法，文章上或是正式文件上絕對不會看到喔！  2. 因為問句是 Ellen '\n",
      "   '當下的想法，當下的想法一定是現在式，回想的時候才會用過去式喔。']),\n",
      " ('請問這裡的have found out 是現在完成式嗎？ 為什麼這樣使用?',\n",
      "  ['might have+過去分詞這種用法可以表達「本來可能發生的事」像是是在猜測可能在當時才第一次發現，因此用這樣的句型喔。',\n",
      "   '是的，用 might well 表達可能性比較高一點的意思喔。 ']),\n",
      " (' 請問這裡的I have asked myself 是現在完成式  所以前面這句話的意思是說她在畢業之後到現在都有在回想她的畢業典禮是嗎？ '\n",
      "  '這句的中文翻譯不是很懂??',\n",
      "  ['沒錯呀！您的理解是正確的，很棒喔！']),\n",
      " (\"不好意思，請問And once you're done taking photos這句為何是使用現在被動式? \"\n",
      "  '依照中文翻譯來看，應該使用現在完成式會比較好吧?',\n",
      "  ['這邊不是被動式，done '\n",
      "   '是形容詞「做完了、完成了的」的意思，可以參考字典：https://tw.dictionary.yahoo.com/dictionary?p=done '\n",
      "   '這樣表達是沒有問題的。 ']),\n",
      " (\"不好意思，請問為何I've been Molly from Jobaroo要用現在完成式呢? 用現在簡單式不行嗎?\",\n",
      "  [\"這裡的意思和 I'm Molly 是一樣的。這裡用完成式是要強調這部影片從頭到尾都是 Molly \"\n",
      "   '為各位解說，這種用完成式的用法的確比較少見，用一般現在式是完全沒有問題的喔。  '\n",
      "   '那後面用完成式一樣是要強調，從剛剛到現在所提及的東西，都是他們提供的資訊。一樣改用現在式也是沒問題的！']),\n",
      " (\"不好意思 請問這裡的So是什麼意思?  還有為何we've been there 是翻譯成(我們都曾經歷過)呢? have + \"\n",
      "  'been是完成式，there不是在那裏的意思嗎?   還有(really happy after a day skiing a few inches '\n",
      "  'of snow)總覺得這裡的語序很奇怪，是有省略掉什麼詞嗎?  覺得 在happy和after之間，還有day和skiing之間需要加入什麼詞 ',\n",
      "  ['這裡的 so 其實是很口語的冗詞，就像中文裡的「然後」，口語上不知不覺會大量使用，但實際上並沒有什麼實質意義，因此看到的時候其實可以忽略。  這裡的 '\n",
      "   'there 是代名詞，原本是「那裡」的意思，在這裡則是指「那種情況」的意思。這裡是配合中文習慣而將 have been there '\n",
      "   '譯成「經歷過這情況」的意思。在講述一件大家都經歷過的事情時，就可以用這一句話喔！  後面 skiing a few inches of snow '\n",
      "   '是分詞片語，用來修飾前面的 a day，補充說明這個 a day 做了些什麼事。這裡中間都沒有省略字喔。']),\n",
      " ('has 後面的had reabies vaccine  是為過去完成式嗎?',\n",
      "  ['這裡是完成式 have + 過去分詞 的用法。這裡的 has 就是完成式中的助動詞，had 則是完成式中的過去分詞。  your pet has '\n",
      "   'never had a rabies vaccine 就是「你的寵物從來沒有接種過狂犬病疫苗」的意思。']),\n",
      " ('have + p.p.為完成式,那加入might之後該如何解釋時態？', ['一樣是完成式，多了might只是多了助動詞進去而已。']),\n",
      " (\"it's been a really great day 請問這一句是完成式嗎？\",\n",
      "  [\"沒錯！這句就是 It's a great day. 的完成式。表示今天一整天都是個很棒的一天。當然不用完成式也可以喔！\"]),\n",
      " ('這裡為什麼是用現在完成式呢？have been born?',\n",
      "  ['因為這裡說 be born「(他們)...出生」，這是一個已經完成的動作，所以這裡用被動完成式喔！']),\n",
      " ('I have asked~這裡為什麼要用現在完成式呢？後面用I had known~之後又用I have learned？不太懂耶?後面的that '\n",
      "  'day and this 是什麼意思呢',\n",
      "  ['前面因為 my own graduation 已經過去了，因此在她畢業典禮之前的事，需要用過去完成式呈現。  後面因為她說 between that '\n",
      "   'day and this，表示從過去一直到現在之間她所學到的教訓，因為是延續到現在的，因此用現在完成式喔。  '\n",
      "   '兩者指涉時間範圍不同，也因此運用不同時態。  後面的 that day 是指她 23 歲畢業那年，this 則是演講的那天喔。']),\n",
      " (\" Take it with a grain of salt; this is just our preference, and we've  left \"\n",
      "  \"off countless, but it's a good place to start.這裡為什麼要用現在完成式呢??have left off\",\n",
      "  ['因為要強調「已經」完成的動作，表示他們「已經」捨去很多了，所以用完成式喔。']),\n",
      " ('We found she had left off our names by mistake.這裡的found是過去式,而had left off '\n",
      "  '是過去完成式嗎?為什麼這裡要用過去完成式呢?',\n",
      "  ['因為 she had left off our names 這件事先發生，We found '\n",
      "   '後來才發生，在過去發生的事情中，最先發生的用過去完成式、後來發生的用一般過去式，這樣才能凸顯出時間發生順序。']),\n",
      " (\"So we've made a list of 10 classic books you should actually read. 這裡用have \"\n",
      "  'made是現在完成式嗎?',\n",
      "  ['是的，您的判斷沒錯喔。']),\n",
      " ('I coach so many businesses that have  gone heavily into debt and are '\n",
      "  'stressed out in their personal  lives now ,我想詢問這裡是使用現在完成式和過去式嗎?是為什麼呀',\n",
      "  ['前面用完成式是強調「已經」陷入債務。後面沒有用到過去式喔，stressed out 是形容詞，並不是過去式動詞喔。']),\n",
      " (\"In these next two years,  you're going to meet some of the best people \"\n",
      "  \"you've ever met in your life. 後面是過去完成式嗎?\",\n",
      "  [\"後面是一般完成式喔！如果是過去完成式會是 had ever met，但這裡是 you've ever met，是一般的完成式。\"]),\n",
      " ('A lot of people already know this 為何不用完成式呢?',\n",
      "  ['您好！因為是講一件常態的事，因此用一般現在式呈現就可以，但要用完成式也並無不可喔。']),\n",
      " (\"請問句中 I've gotta work 24-7 為何要用完成式呢？ 感覺上是應該用I gotta work 24-7 就好 感謝 \",\n",
      "  ['gotta 其實是 have gotta 的簡略說法，兩者的意思是一模一樣的喔！ ']),\n",
      " ('(1)請問and的用法可以前面是完成式,後面是現在嗎?像本句的用法? (2)if這邊是不是當副詞子句使用,you '\n",
      "  'like修飾主詞someone,動詞是wants',\n",
      "  ['1. 完全沒問題的，現在完成式也是現在式的一種，是同一時態喔。  2. if someone you like wants to hang '\n",
      "   'out，是 see 的受詞，這裡子句的性質是名詞子句才對喔。']),\n",
      " ('為什麼run不用用完成式？',\n",
      "  ['這裡 run 就是完成式喔。run 的動詞三態比較特別，是 run-ran-run，過去分詞和原形動詞是一樣的。']),\n",
      " (\"  為什麼要用完成式？you've got to和have to又有什麼差別？\",\n",
      "  ['您好！have got to 是一種慣用的說法，和 have to 意思和用法是一樣的，只是 have got to '\n",
      "   '在口語上比較常見，若是正式寫作的話則不建議使用，可以改用 have to 喔。']),\n",
      " (\"you wouldn't have been able to buy a cup of coffee請問為什麼用現在完成式?\",\n",
      "  ['這裡不是現在完成式喔。這裡是假設語氣「would have + 過去分詞」。這種用法是用以表達「過去可能會、當時原本會...」的意思。 所以 you '\n",
      "   \"wouldn't have been able to buy a cup of coffee 就是「你那個時候可能不能買到一杯咖啡」這樣的意思。\"]),\n",
      " ('\"we had heard her\"，是傳說中的過去完成式嗎? 如果是現在完成式有句子可舉例嗎(讓我重溫國中文法) 麻煩了^^',\n",
      "  ['是過去完成是沒錯喔！這整句都是在講過去的事，可以看到後面說 we began to imitate our '\n",
      "   'mom（我們開始模仿我們的母親），那在模仿之前已經做過什麼事呢？我們已經聽到她 (had heard her)、已經發展發聲器官 (had '\n",
      "   'developed the organs of '\n",
      "   'articulation)，正因為這些事在過去已經完成了，所以我們才能模仿我們的母親。所以這裡用過去完成式，來表達時間的先後順序。']),\n",
      " ('as if, 文法上當聯接詞嗎? 前一句如果用過去式接as if 後一句用過去完成式?是看講解的例句所以提問，但是上課內容是用(現在式\"as if '\n",
      "  '現在式)，還是講解用(過去式as if過去完成式)是語意上的用法? ',\n",
      "  ['是依照句意去判斷的喔！看您所要表達的內容，決定要使用何種時態，像是課文中例句是在說明一個普遍的情況，因此用一般現在式。  例句 The '\n",
      "   'cold-blooded murderer behaved as if nothing had happened. 中，因為 nothing had '\n",
      "   'happened 是假設那位兇手在犯案之前發生的事，因此用過去完成式表達時間的先後順序。',\n",
      "   'So I always say to accent reduction clients, \"Everything that you have '\n",
      "   'learned so far about the English language you have learned with your eyes '\n",
      "   'through textbooks.\"  逗號後,通常用小寫但是逗號後有,\"是用大寫不是小寫?',\n",
      "   '這裡可以看到是在引號內，表達說話的內容，這種情況下要用大寫開頭的完整句子。這裡的逗號用法類似中文的冒號。',\n",
      "   'Say \"she sells sea shells by the seashore,\" and say it with rhythm. '\n",
      "   \"Say''She  為什麼一樣是''要用小寫不是大寫? 是因為前面沒有,所以算是一句所以用小寫嗎?  \",\n",
      "   '關於 quotation mark (引號) '\n",
      "   '裡面的句子開頭是否大寫這件事，也屬於文法應用的一環，雖然在台灣的英語教育與考試制度中，並沒有特別重視，但以下還是為您簡短說明。  一般 '\n",
      "   'quotation mark 的使用，是用來引用並如實呈現別人說過的話或寫過的文字。如果要引用完整句子，通常在 quotation mark '\n",
      "   '中的開頭需要大寫。然而如果只是摘選其中一段，則不使用大寫。  此處即是摘選片段的用法，因此不需要大寫。  希望以上解說對您有所幫助。']),\n",
      " ('這問為什麼這句要用現在完成式？而不是說you have one minute？',\n",
      "  ['這裡用完成式強調你已經有這一分鐘的時間來做這件事，但用一般現在式也可以喔！兩種表達方式的意思是一樣的。']),\n",
      " (' people have come to your blog.為什麼要用完成式',\n",
      "  ['這裡用完成式是為了強調已經發生的事，但其實這是一件事實，因此用一般現在式也可以的喔！這只是口吻上的不同而已:)']),\n",
      " (\"you've got to的have縮寫      那如果是完成式的have可以縮寫嗎\",\n",
      "  ['這裡就是完成式的 have 喔，這樣縮寫是完全沒問題的。']),\n",
      " (\"老師好～  tell you that you'll accomplish things you've always wanted to.  \"\n",
      "  '煩請老師解說一下這句的文法呢？有現在式 有未來式 也有完成式   ',\n",
      "  [\"您好！這裡不衝突喔，you'll accomplish things 用未來式是表達，你以後將會完成這些事。什麼樣的事呢？things you've \"\n",
      "   'always wanted to 你一直以來都想做的，因為是一直以來，現在也還想做這些事，因而用完成式。  '\n",
      "   '主要是要看表達的語境，時態混用是沒問題的喔。']),\n",
      " (\"I'm going to a book fair this weekend. What about you?  這句話  \"\n",
      "  '為何用現在完成式不是還沒發生嗎?',\n",
      "  ['這裡不是現在完成式喔！是現在進行式，現在進行式是可以用來說明未來規劃的，be going to do something 就是「將要做某事」。',\n",
      "   '可是它後面接的是名詞而不是動詞耶!?',\n",
      "   \"喔喔，老師看太快了。但這裡一樣是現在進行式說明未來規劃的用法，I'm going to somewhere 就是「我將要去某個地方」的意思喔。\"]),\n",
      " (' what all the Taiwanese had been raving about. '\n",
      "  '這裡用過去完成式是代表~以前有在大肆吹捧但現在沒有這麼做了    ~嗎?',\n",
      "  ['應該是說，他之前去台灣玩（過去式），在他去台灣之前，有很多人大肆吹捧（過去完成式），是這樣的時間概念喔。']),\n",
      " (' has been pink請問這裡的現在完成式是指「到現在還是喜歡粉紅色 」 嗎?',\n",
      "  ['是的，有對於現在還在進行的一種動作上的暗示性，另外也可以是強調從過去到現在一直都是如此。']),\n",
      " (\" it's never failed you before=it has never failed you before    \"\n",
      "  '既然是現在完成式為何會有before呢??',\n",
      "  ['表示從過去到現在都沒有讓你失望，那這個「沒有讓你失望」的動作已經完成了，因此使用完成式沒錯喔。例如：I have done my homework. '\n",
      "   '表示你從過去某個時間點開始做你的作業，到現在完成了，這裡用完成式的概念是一樣的喔！']),\n",
      " ('具中為何是will + 現在完成式? 這是什麼用法呢',\n",
      "  ['因為前面有個時間點，也就是晚秋之時，這裡要表達的意思是，到未來的那個時間點時，牠就會已經收集了這麼多堅果。所以才會是未來式 + 完成式的用法喔。']),\n",
      " ('請問一下，這裡為什麼要用完成式呀?謝謝喔~my parents had had for me/I had had for myself',\n",
      "  ['因為表示過去某段時間之前的狀況，因此用過去完成式呈現喔。那當然要用一般過去式也可以。']),\n",
      " ('I have decided to talk to you about the benefits of failure. 請問一下，為什麼要用完成式? '\n",
      "  '我發現文章裡的句子很常用完成式，為什麼呀? 謝謝喔~',\n",
      "  ['就是用字選擇囉，其實母語人士說話的時候很少會直接使用一般現在式，因為敘述的都是已經作過的動作。像是這裡因為她「已經」決定了，所以用完成式呈現囉。繼續跟著課程進行時也可以多多觀察時態運用。']),\n",
      " ('請問have been一般應該是用在完成式, 但這邊 have been special, 感覺不是完成某個動作? 而是 have been + '\n",
      "  'adj. 是否指: 已經完成一個特殊的事件?',\n",
      "  ['觀念很棒喔，確實不是指完成一個動作，而是形容一件事情從以前到現在都很特別喔！']),\n",
      " ('為什麼這邊要使用known 完成式', ['這裡沒有 have，不是完成是喔，這裡是被動式的用法，因生命是「被知道」是存在的。']),\n",
      " (\"I've done interviews 這句話的語法 是用have+ p.p的現在完成式表示自己從過去到現在有做過面試的意思???\",\n",
      "  ['是的，以及強調他「已經」作過這種面試，而後面補充說明他已經作過的是怎樣的面試。']),\n",
      " (' that coin is being placed  是現在完成式嗎?為何有is 又有being',\n",
      "  ['這裡是現在現在進行式+被動式的用法，表示「正在被....」的意思。這裡 ...that coin is being placed '\n",
      "   '是「正在被放置...」的意思。  如果要改寫成一般被動式，也可以寫成： ...that coin is placed.']),\n",
      " ('你有一分鐘：為什麼這句要用完成式呢？ 不能寫\\u3000You have one minute.... ?',\n",
      "  ['這裡用完成式強調你已經有這一分鐘的時間來做這件事，但用一般現在式也可以喔！兩種表達方式的意思是一樣的。']),\n",
      " ('這裡是完成式嗎? 要加 have 嗎?', ['這裡是過去式，所以不用加 have 喔！']),\n",
      " (\"請問you wouldn't have been able to buy a cup of coffee這句一定要用完成式嗎？如果是you \"\n",
      "  \"wouldn't be able to....可以嗎？\",\n",
      "  ['不建議喔！would have + '\n",
      "   '過去分詞」這種用法是用以表達「和過去的事實相反」，即「過去可能會、當時原本會...(但最後事實結果是不會、沒有)」的意思。  '\n",
      "   '句子這裡是要表達「你當時可能覺得無法買或不會很想買咖啡...(但最後可能因為還是需要喝咖啡 所以還是有買)」的意思，因此運用這種句型。  '\n",
      "   '再舉個例子： I could have done better on the test, but I ran out of time. '\n",
      "   '我本來可以考得更好，但我來不及作答完畢。 （表示本來可以考好，但因為沒時間寫完，所以最後結果考不好。）']),\n",
      " ('請問為什麼people might have spurned bugs這句要使用完成式謝謝。',\n",
      "  ['might have+過去分詞這種用法可以表達「過去可能發生過的事」，用以表示推測語氣，這種句型很常見喔。']),\n",
      " ('請問這句一定要用完成式被動式嗎?如果只用完成式可以嗎?例如\"Well,you\\'ve involved in this business...',\n",
      "  ['因為這裡後面有 too long，表示這個動作已持續好一段時間，因此建議還是保留完成式比較好喔。']),\n",
      " ('您好，這邊的 has since impacted 是使用完成式的時態?後來看一下不解這邊為什麼加個since，謝謝',\n",
      "  ['您好！這裡是完成式沒錯喔，這裡 since 是副詞，可以先參考 since 在字典上作為副詞的第一條解釋和例句： '\n",
      "   'https://tw.dictionary.yahoo.com/dictionary?p=since  那這裡其實是要把 has impacted '\n",
      "   '要一起看，是完成式的運用，只是中間插入修飾的副詞 since 所以分開了。']),\n",
      " ('你好，\"it\\'s been a really great day.\"這句是用過去完成式嗎?',\n",
      "  [\"It's been a really great day 這句就是 It's a great day. 的完成式。完整寫出就是：It has \"\n",
      "   'been a great day. 因為 has 後面要加過去分詞，因此原本的 be 動詞 is 要改寫成過去分詞 been。  '\n",
      "   '用完成式來表達，表示今天一整天都是個很棒的一天。當然不用完成式也可以喔！ ']),\n",
      " ('你好，請問一下這邊為什麼只有\" we had heard her\"跟\" we had developed \"兩句用過去完成式謝謝',\n",
      "  ['這兩句不只是過去式，還是過去完成式喔！  這整句都是在講過去的事，可以看到後面說 we began to imitate our '\n",
      "   'mom（我們開始模仿我們的母親），那在模仿之前已經做過什麼事呢？我們已經聽到她 (had heard her)、已經發展發聲器官 (had '\n",
      "   'developed the organs of '\n",
      "   'articulation)，正因為這些事在過去已經完成了，所以我們才能模仿我們的母親。所以這裡用過去完成式，來表達時間的先後順序。']),\n",
      " ('請問之前詢問過老師現在完成式用法，如 I have done this before.我曾經做過這件事。 這和過去式\"我做過這件事\"要怎麼去區分?',\n",
      "  ['基本的區別可以參考以下連結： http://211.75.39.208:888/adv/grammar/data/VSVT05.htm']),\n",
      " ('這裡having had and lost可以寫成having and losting嗎? 為什麼要用現在完成式呢?',\n",
      "  ['已在另一個相同問題回覆囉 : )']),\n",
      " ('這裡having had and lost可以寫成having and losting嗎? 為什麼要用現在完成式呢?',\n",
      "  ['不建議喔，用完成式式用以強調曾經有過、曾經失去過，如果用一般式就沒有這個口吻囉。']),\n",
      " (\"I've come out ahead of Baroness Mary Warnock. 這句為甚麼用完成式?\",\n",
      "  ['因為要強調已經完成、且持續的動作。母語人士說話時，很少單純只使用現在式，會搭配語境運用很多語態喔。']),\n",
      " ('這裡用has chosen是因為在敘述一個經歷嗎？所以才用完成式',\n",
      "  ['這裡比較偏向\"完成某動作\"的感覺喔，可以翻譯成\"選擇了\"。 若是表示經驗，翻成\"選擇過\"，有點怪。  您可以參考這篇完成式的教學: '\n",
      "   'https://www.hopenglish.com/english-language-learning-tips-tenses-part-2-2']),\n",
      " ('has been是因為在講述一個經驗，所以才用完成式？\\nthroughout在這邊是貫穿嗎？不太了解這邊用這個介系詞？',\n",
      "  ['has been 這裡是強調一直以來的動作。throughtout 是「貫穿、從頭到尾」的意思沒錯喔，throughout our geologic '\n",
      "   'history 就是說「在貫穿整段地質歷史中」的意思。',\n",
      "   '那has been如果是這樣，為什麼不適用現在式或是進行式，要用完成式，有他特別的用法嗎？',\n",
      "   '其實母語人士說話時很少單純使用現在式，會依照內容運用不同時態。這裡就像上述因為要表達「一直以來的動作」，所以用完成式最為貼近。另外也可以參考我們的教學專欄喔： '\n",
      "   'https://www.hopenglish.com/english-language-learning-tips-tenses-part-2-2 ']),\n",
      " (\"it's這句為什麼前面是用現在式後面卻是接完成式\", ['後面的也是「『現在』完成式」，兩者都是在現在情境之下，不衝突喔。']),\n",
      " ('為什麼前面從天空掉下來是用過去完成式, 而後面被魔鬼留下則是用被動式? 而不是兩個一起都用過去完成式? or had been left by the '\n",
      "  'devil.',\n",
      "  ['因為 fossils had simply fallen from the sky 這件事發生在 people thought '\n",
      "   '之前，因此用過去完成式來表現發生在過去式之前，才能表現出時間先後順序。']),\n",
      " ('I found out that Mr. Lin has already been married. 我發現林先生已經結婚了。  '\n",
      "  '上面這句看起來怪怪的，一般使用has been + Vpp 不是表被動完成式嗎?  用在人的身上是否應該使用表主動的句型? Mr. Lin has '\n",
      "  'married. ',\n",
      "  ['這裡並非被動式喔，married 是形容詞的角色，可以參考以下字典解釋： '\n",
      "   'https://tw.dictionary.yahoo.com/dictionary?p=married ']),\n",
      " (' I just thought somebody had run into the door  不太懂這句話的文法  後面是過去完成式嗎？ 為什麼這樣',\n",
      "  ['是過去完成式沒錯喔。影片中訪談的對像在談論一件過去發生的事情。而在這件事情中，又描述了一個人「已經」撞到了門的事實。  '\n",
      "   '因此這裡用所謂過去完成式來表達。  但事實上，在此處我們用過去式來描述也沒有錯，只是要表達的意境稍有不同。']),\n",
      " ('You can have ready,這邊的have是什麼意思?不是要to V or to Ving ?還是完成式?',\n",
      "  ['這裡的 have 就是一般的「擁有、有」的意思喔。這裡是 副詞 ready 用來修飾前面的 '\n",
      "   'have，表示「已經準備好地」，並不是要表示「必須做某事」，若要表示 「必須做某事」才需要用到 have to do something '\n",
      "   '的句型喔！']),\n",
      " (\"請問這裡的that's=that has，請問為什麼是has呢?如果是現在完成式的話，應該用have才對，不是嗎? \",\n",
      "  ['因為要配合的主詞是前面的 every single thing，是單數名詞，因此配合的完成式助動詞是 has 喔！']),\n",
      " ('At if you ever see a spoon  這句為什不用過去式過去完成式？', ['因為是在講一件常態的事，不需要用過去式喔。']),\n",
      " ('the toys \"had been\" made, 請問為何這邊要用完成式？ 如果用 the toys were made 意義上會有不同嗎？',\n",
      "  ['因為要表達的是「一直以來」玩具是如何被精心製作出來的。如果是用過去式，則只有強調玩具被製作的當下是很小心的，沒有表達出他們從過去到現在一直都維持這樣的高水準。']),\n",
      " ('believed to have come....，have come 是現在完成式嗎？have前面是不是有省略that？',\n",
      "  ['這裡確實是完成式喔，但前面是沒有省略的。is believed 這裡是被動式「被認為...」的意思，被認為做了什麼事呢？to have come '\n",
      "   'from a university student directory 來自大學學生通訊錄這件事。  這裡是在 to 後面使用完成式 '\n",
      "   'have+過去分詞強調「已經完成的動作」，因為現在談論的事都是確定已經發生過的，因此就可以使用完成式喔！'])]\n"
     ]
    }
   ],
   "source": [
    "pprint.pprint(filtered_questions[:100])"
   ]
  },
  {
   "cell_type": "markdown",
   "metadata": {
    "deletable": true,
    "editable": true
   },
   "source": [
    "## Read questions and replies into file"
   ]
  },
  {
   "cell_type": "code",
   "execution_count": 120,
   "metadata": {
    "collapsed": false,
    "deletable": true,
    "editable": true
   },
   "outputs": [],
   "source": [
    "# PT： pronounciation and translation\n",
    "Grammar = {'完成式': 1, '進行式': 2, '過去式': 3, '未來式': 4, '關係代名詞': 5, '不定詞': 6, '名詞子句': 7, \n",
    "           '被動': 8, '介係詞': 9, '連接詞': 10, '假設語氣': 11, '現在分詞': 12, '過去分詞': 13, 'PT': 14, '其它': 0}\n",
    "Grammar_cat = ['完成式', '進行式', '過去式', '未來式', '關係代名詞', '不定詞', '名詞子句', '被動', '介係詞', '連接詞', '假設語氣',\\\n",
    "              '現在分詞', '過去分詞']"
   ]
  },
  {
   "cell_type": "code",
   "execution_count": 128,
   "metadata": {
    "collapsed": false,
    "deletable": true,
    "editable": true
   },
   "outputs": [
    {
     "name": "stderr",
     "output_type": "stream",
     "text": [
      " 84%|#############################################################            |\r"
     ]
    },
    {
     "name": "stdout",
     "output_type": "stream",
     "text": [
      "19594 questions are processed.\n",
      "Counter({'PT': 2869,\n",
      "         '介係詞': 1562,\n",
      "         '過去分詞': 1000,\n",
      "         '關係代名詞': 986,\n",
      "         '被動': 823,\n",
      "         '現在分詞': 765,\n",
      "         '連接詞': 759,\n",
      "         '過去式': 748,\n",
      "         '完成式': 617,\n",
      "         '進行式': 539,\n",
      "         '不定詞': 231,\n",
      "         '名詞子句': 147,\n",
      "         '假設語氣': 126,\n",
      "         '未來式': 81})\n"
     ]
    },
    {
     "name": "stderr",
     "output_type": "stream",
     "text": [
      " 85%|##############################################################           |\r",
      " 86%|##############################################################           |\r",
      " 87%|###############################################################          |\r",
      "100%|#########################################################################|\r\n"
     ]
    }
   ],
   "source": [
    "import csv\n",
    "from collections import defaultdict, Counter\n",
    "from progressbar import AnimatedMarker, Bar, BouncingBar, ETA, FileTransferSpeed, FormatLabel, Percentage, \\\n",
    "    ProgressBar, ReverseBar, RotatingMarker, \\\n",
    "    SimpleProgress, Timer\n",
    "\n",
    "outfile = 'questions.csv'\n",
    "question_count = member.get_questions_count()\n",
    "question_dict = Counter()\n",
    "with open(outfile, 'w') as csvfile:\n",
    "    spamwriter = csv.writer(csvfile, delimiter = ',', quotechar = '\"')\n",
    "    spamwriter.writerow(['question_id', 'member_id', 'question', 'type'])\n",
    "    pbar  = ProgressBar(widgets=[Percentage(), Bar()], maxval = question_count).start()\n",
    "    index = 0\n",
    "    for question in member.get_question_info():\n",
    "        q = question['message']\n",
    "        replies = question['reply']\n",
    "        \n",
    "        # pronouciation and translation\n",
    "        if '發音' in q or '聽' in q or '翻' in q:\n",
    "            spamwriter.writerow([question['id'], question['memberid'], q, Grammar['PT']])\n",
    "            question_dict['PT'] += 1\n",
    "            continue\n",
    "        \n",
    "        for query in Grammar_cat:\n",
    "            # if keyword is in question, this question is related to this grammar\n",
    "            if query in q:\n",
    "                spamwriter.writerow([question['id'], question['memberid'], q, Grammar[query]])\n",
    "                question_dict[query] += 1\n",
    "            else:\n",
    "                for r in replies:\n",
    "                    if query in r['message']:\n",
    "                        spamwriter.writerow([question['id'], question['memberid'], q, Grammar[query]])\n",
    "                        question_dict[query] += 1\n",
    "                        break\n",
    "        pbar.update(index+1)\n",
    "        index += 1\n",
    "    pbar.finish()\n",
    "print('{} questions are processed.'.format(index-1))\n",
    "pprint.pprint(question_dict)"
   ]
  },
  {
   "cell_type": "markdown",
   "metadata": {
    "deletable": true,
    "editable": true
   },
   "source": [
    "## Define question class"
   ]
  },
  {
   "cell_type": "code",
   "execution_count": 136,
   "metadata": {
    "collapsed": true,
    "deletable": true,
    "editable": true
   },
   "outputs": [],
   "source": [
    "class Questions(Members):\n",
    "    \"\"\"docstring for Questions\"\"\"\n",
    "    def __init__(self, class_A, datafile):\n",
    "        if class_A.data != None:\n",
    "            self.data = class_A.data\n",
    "        else:\n",
    "            # load member data\n",
    "            with open(self.datafile) as jsonfile:\n",
    "                self.data = json.load(jsonfile)\n",
    "    \n",
    "    def get_question_dict(self):\n",
    "        questions = defaultdict(defaultdict)\n",
    "        for q in self.get_question_info():\n",
    "            questions[q['id']]['memberid'] = q['memberid']\n",
    "            questions[q['id']]['message'] = q['message']\n",
    "            questions[q['id']]['reply'] = [reply['message'] for reply in q['reply']]\n",
    "        return questions"
   ]
  },
  {
   "cell_type": "code",
   "execution_count": 137,
   "metadata": {
    "collapsed": false,
    "deletable": true,
    "editable": true
   },
   "outputs": [],
   "source": [
    "question_cls = Questions(member, 'member_data_filtered.json')"
   ]
  },
  {
   "cell_type": "code",
   "execution_count": 138,
   "metadata": {
    "collapsed": false,
    "deletable": true,
    "editable": true
   },
   "outputs": [],
   "source": [
    "question_dict = question_cls.get_question_dict()"
   ]
  },
  {
   "cell_type": "code",
   "execution_count": 139,
   "metadata": {
    "collapsed": false,
    "deletable": true,
    "editable": true
   },
   "outputs": [
    {
     "name": "stdout",
     "output_type": "stream",
     "text": [
      "22464\n"
     ]
    }
   ],
   "source": [
    "print(len(question_dict.keys()))"
   ]
  },
  {
   "cell_type": "code",
   "execution_count": 140,
   "metadata": {
    "collapsed": true,
    "deletable": true,
    "editable": true
   },
   "outputs": [],
   "source": [
    "question_file = 'questions.csv'\n",
    "question_counter = Counter()\n",
    "with open(question_file) as csvfile:\n",
    "    spamreader = csv.reader(csvfile, delimiter = ',', quotechar = '\"')\n",
    "    header = next(spamreader)\n",
    "    for row in spamreader:\n",
    "        question_counter[row[0]] += 1"
   ]
  },
  {
   "cell_type": "code",
   "execution_count": 145,
   "metadata": {
    "collapsed": false,
    "deletable": true,
    "editable": true
   },
   "outputs": [
    {
     "name": "stdout",
     "output_type": "stream",
     "text": [
      "[('82235', 6), ('28134', 6), ('11572', 6), ('2662', 6), ('121557', 6), ('86262', 6), ('2596', 6), ('55718', 5), ('56172', 5), ('38304', 5), ('10827', 5), ('1200', 5), ('77576', 5), ('51102', 5), ('38418', 5), ('64905', 5), ('59183', 5), ('35509', 5), ('56582', 5), ('45258', 5), ('110174', 5), ('23255', 5), ('22665', 4), ('26574', 4), ('75626', 4), ('33190', 4), ('13957', 4), ('7056', 4), ('43395', 4), ('40262', 4), ('69501', 4), ('49504', 4), ('97296', 4), ('43500', 4), ('31455', 4), ('73117', 4), ('13905', 4), ('51170', 4), ('99375', 4), ('57064', 4), ('36666', 4), ('33919', 4), ('107495', 4), ('49746', 4), ('19085', 4), ('113428', 4), ('49754', 4), ('90286', 4), ('75962', 4), ('49269', 4), ('83434', 4), ('38220', 4), ('51027', 4), ('43046', 4), ('26276', 4), ('33191', 4), ('6657', 4), ('36500', 4), ('52524', 4), ('4099', 4), ('47338', 4), ('13179', 4), ('56362', 4), ('77711', 4), ('24794', 4), ('92396', 4), ('81200', 4), ('89157', 4), ('42061', 4), ('35359', 4), ('14167', 4), ('42280', 4), ('4315', 4), ('9924', 4), ('96715', 4), ('98016', 4), ('13993', 4), ('56183', 4), ('95332', 4), ('30672', 4), ('26312', 4), ('32681', 4), ('5458', 4), ('11272', 4), ('85526', 4), ('108975', 4), ('46385', 4), ('76867', 4), ('97574', 4), ('39397', 4), ('60682', 4), ('64535', 4), ('55117', 4), ('74365', 4), ('40891', 4), ('34436', 4), ('43015', 4), ('82458', 4), ('105770', 4), ('4462', 4)]\n"
     ]
    }
   ],
   "source": [
    "print(question_counter.most_common(100))"
   ]
  },
  {
   "cell_type": "code",
   "execution_count": 144,
   "metadata": {
    "collapsed": false,
    "deletable": true,
    "editable": true
   },
   "outputs": [
    {
     "name": "stdout",
     "output_type": "stream",
     "text": [
      "defaultdict(None, {'message': '我發現文章很多動詞ed 後面的動詞或be動詞都會加ing    請問這個是什麼的文法？', 'memberid': '59754', 'reply': [\"過去分詞就是我們常聽到的「V-ed」，通常用在被動式（be動詞+過去分詞），以及完成式（have+過去分詞）。以下舉例：  The cake was eaten by me.（那塊蛋糕被我吃掉。） 這句的過去分詞就是 eaten，搭配 be 動詞 was 形成被動式，表達「『被』吃掉」。  I have finished my work.（我已經完成我的工作。） 這裡的過去分詞是 finished，搭配助動詞 have 構成完成式，表達「已經」做到某個動作。  那現在分詞就是我們常聽到的 V-ing，通常用來表達現在進行式（be+現在分詞），表示正在進行的動作，像是五月天就有一首歌叫「戀愛 ing」，表示正在戀愛中的意思。  例如：I'm doing my homework. 我正在做我的功課。  大概有這樣的分別喔！\", '所以這邊的survived  being   是過去完成式的意思嗎？  因為前面ed  後面又ing?', '不是喔，這裡是過去式＋被動式，完成式的句型裡會有have/has，但這裡沒有。', '既然是被動式為什不是survived  been  hit ，   我已經搞混了 ', '請您在仔細回去看看我們第一次回答所替你寫下的完整解說。  您當初要問的是動詞ed/ing所以我們替您解答其中的差別，現在小老師覺得你是不懂為什麼是being而已，是這樣沒錯嗎？  這裡的being hit by a bus是被動用法，原本是可以寫作：was hit by a bus。但在這裡我們為了要讓兩個動作可以同時出現（survived, was hit)，所以就採用了把後面這個動作的主要動詞（也就是be動詞was）變成ving形式being，這樣句子裡同時出現兩個動詞的現象就得以解決，變得符合文法了。  因此才會出現有ving的情況。', '謝謝老師     我要的是最後這個回答，哈哈', '小老師也鬆口氣了，謝謝你的耐心等候喔:)']})\n"
     ]
    }
   ],
   "source": [
    "print(question_dict['82235'])"
   ]
  },
  {
   "cell_type": "markdown",
   "metadata": {
    "collapsed": true,
    "deletable": true,
    "editable": true
   },
   "source": [
    "## get unique records"
   ]
  },
  {
   "cell_type": "code",
   "execution_count": 4,
   "metadata": {
    "collapsed": false
   },
   "outputs": [
    {
     "name": "stdout",
     "output_type": "stream",
     "text": [
      "duplication count: 4540\n",
      "nonduplication count: 6713\n"
     ]
    }
   ],
   "source": [
    "import csv\n",
    "from collections import defaultdict, Counter\n",
    "\n",
    "question_file = '/home/pan/Idealab/NTHU/Semester-6/NLP/term_project/questions.csv'\n",
    "duplication = Counter()\n",
    "questions = []\n",
    "header = None\n",
    "with open(question_file, 'r') as csvfile:\n",
    "    spamreader = csv.reader(csvfile, delimiter = ',', quotechar = '\"')\n",
    "    header = next(spamreader)\n",
    "    for row in spamreader:\n",
    "        duplication[row[0]] += 1\n",
    "        questions.append(row)\n",
    "\n",
    "nonduplication_list = []\n",
    "duplication_list = []\n",
    "for record in questions:\n",
    "    if duplication[record[0]] > 1:\n",
    "        duplication_list.append(record)\n",
    "    else:\n",
    "        nonduplication_list.append(record)\n",
    "\n",
    "print('duplication count: {}'.format(len(duplication_list)))\n",
    "print('nonduplication count: {}'.format(len(nonduplication_list)))\n",
    "\n",
    "out_duplication = '/home/pan/Idealab/NTHU/Semester-6/NLP/term_project/questions_dup.csv'\n",
    "out_nonduplication = '/home/pan/Idealab/NTHU/Semester-6/NLP/term_project/questions_nondup.csv'\n",
    "with open(out_duplication, 'w') as outfile:\n",
    "    spamwriter = csv.writer(outfile, delimiter = ',', quotechar = '\"')\n",
    "    spamwriter.writerow(header)\n",
    "    for record in duplication_list:\n",
    "        spamwriter.writerow(record)\n",
    "\n",
    "with open(out_nonduplication, 'w') as outfile:\n",
    "    spamwriter = csv.writer(outfile, delimiter = ',', quotechar = '\"')\n",
    "    spamwriter.writerow(header)\n",
    "    for record in nonduplication_list:\n",
    "        spamwriter.writerow(record)\n",
    "        "
   ]
  },
  {
   "cell_type": "markdown",
   "metadata": {},
   "source": [
    "## distribution of nonduplication question types"
   ]
  },
  {
   "cell_type": "code",
   "execution_count": 10,
   "metadata": {
    "collapsed": false
   },
   "outputs": [
    {
     "name": "stdout",
     "output_type": "stream",
     "text": [
      "{'1': 207,\n",
      " '10': 528,\n",
      " '11': 56,\n",
      " '12': 294,\n",
      " '13': 207,\n",
      " '14': 2869,\n",
      " '2': 193,\n",
      " '3': 448,\n",
      " '4': 33,\n",
      " '5': 453,\n",
      " '6': 95,\n",
      " '7': 88,\n",
      " '8': 243,\n",
      " '9': 999}\n"
     ]
    }
   ],
   "source": [
    "import pprint\n",
    "from pandas import DataFrame\n",
    "\n",
    "type_count = Counter()\n",
    "nonduplication_file = '/home/pan/Idealab/NTHU/Semester-6/NLP/term_project/questions_nondup.csv'\n",
    "with open(nonduplication_file, 'r') as csvfile:\n",
    "    spamreader = csv.reader(csvfile, delimiter = ',', quotechar = '\"')\n",
    "    header = next(spamreader)\n",
    "    for row in spamreader:\n",
    "        type_count[row[3]] += 1\n",
    "        \n",
    "# df = DataFrame(data = type_count, index = type_count.values())\n",
    "# df\n",
    "pprint.pprint(type_count)"
   ]
  },
  {
   "cell_type": "markdown",
   "metadata": {},
   "source": [
    "## delete duplications for testing"
   ]
  },
  {
   "cell_type": "code",
   "execution_count": null,
   "metadata": {
    "collapsed": true
   },
   "outputs": [],
   "source": []
  }
 ],
 "metadata": {
  "kernelspec": {
   "display_name": "Python 3",
   "language": "python",
   "name": "python3"
  },
  "language_info": {
   "codemirror_mode": {
    "name": "ipython",
    "version": 3
   },
   "file_extension": ".py",
   "mimetype": "text/x-python",
   "name": "python",
   "nbconvert_exporter": "python",
   "pygments_lexer": "ipython3",
   "version": "3.4.3"
  }
 },
 "nbformat": 4,
 "nbformat_minor": 2
}
