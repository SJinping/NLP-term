{
 "cells": [
  {
   "cell_type": "markdown",
   "metadata": {
    "deletable": true,
    "editable": true
   },
   "source": [
    "# Train Classifier with TFIDF"
   ]
  },
  {
   "cell_type": "code",
   "execution_count": 10,
   "metadata": {
    "collapsed": true,
    "deletable": true,
    "editable": true
   },
   "outputs": [],
   "source": [
    "import csv\n",
    "import jieba\n",
    "import re\n",
    "import random\n",
    "import numpy as np\n",
    "\n",
    "from sklearn import metrics\n",
    "from sklearn.feature_extraction.text import TfidfVectorizer, CountVectorizer, TfidfTransformer\n",
    "# from sklearn.naive_bayes import GaussianNB\n",
    "from sklearn.naive_bayes import MultinomialNB\n",
    "from sklearn.ensemble import RandomForestClassifier\n",
    "from sklearn.svm import LinearSVC, SVC"
   ]
  },
  {
   "cell_type": "markdown",
   "metadata": {},
   "source": [
    "## type dict\n",
    "Grammar = {'完成式': 1, '進行式': 2, '過去式': 3, '未來式': 4, '關係代名詞': 5, '不定詞': 6, '名詞子句': 7, \n",
    "           '被動': 8, '介係詞': 9, '連接詞': 10, '假設語氣': 11, '現在分詞': 12, '過去分詞': 13, 'PT': 14, '其它': 0}"
   ]
  },
  {
   "cell_type": "code",
   "execution_count": 7,
   "metadata": {
    "collapsed": true,
    "deletable": true,
    "editable": true
   },
   "outputs": [],
   "source": [
    "class TextFeature(object):\n",
    "    def __init__(self, file):\n",
    "        self.file = file\n",
    "        self.stopwords = ['什麼', '請問', '這裡', '不是', '意思', '這邊', '謝謝', '這句', '為何', '使用', '怎麼', '要加', '老師', '還是', '如何', '甚麼', '一下', '這個', '這樣', '問為', '因為', '何要', '用過', '是不是', '一個', '應該', '直接', '好像', '如果', '何不', '兩個', '這是', '何用', '需要', '時候', '所以', '您好', '起來', '還有', '加上', '寫成', '你好', '此句', '有點', '問此', '不好意思', '不到', '像是', '這裏', '為什麼']\n",
    "        \n",
    "        with open('{0}'.format(self.file)) as data_file:\n",
    "            self.data = {}\n",
    "            num = 0\n",
    "            for row in csv.DictReader(data_file):\n",
    "                if row['type'] in self.data:\n",
    "                    self.data[row['type']].append(row['question'])\n",
    "                else:\n",
    "                    self.data[row['type']] = []\n",
    "                    \n",
    "                num += 1\n",
    "        data_file.close()\n",
    "        \n",
    "        self.X_train = []\n",
    "        self.X_test = []\n",
    "        self.Y_train = []\n",
    "        self.Y_test = []\n",
    "        for key, questions in self.data.items():\n",
    "            if key != '14':\n",
    "                random.shuffle(questions)\n",
    "                split_point = len(questions)*8//10\n",
    "                train = questions[:split_point]\n",
    "                test = questions[split_point:]\n",
    "                self.X_train += train\n",
    "                self.X_test += test\n",
    "                self.Y_train += [key]*len(train)\n",
    "                self.Y_test += [key]*len(test)\n",
    "            \n",
    "        self.training_text = self.cut_questions(self.X_train)\n",
    "        self.testing_text = self.cut_questions(self.X_test)\n",
    "        \n",
    "    def cut_questions(self, data):\n",
    "        corpus = []\n",
    "        for q in data:\n",
    "            segs = jieba.cut(q, cut_all=False)\n",
    "            final = [seg for seg in segs if seg not in self.stopwords]\n",
    "            corpus.append(' '.join(final))\n",
    "        return corpus\n",
    "    \n",
    "    def cal_tfidf(self):\n",
    "        tfidf_vectorizer = TfidfVectorizer()\n",
    "        tfidf_vectorizer.fit(self.training_text)\n",
    "        return tfidf_vectorizer\n",
    "        \n",
    "    def train_classifier_naive(self):\n",
    "        tfidf_vectorizer = self.cal_tfidf() \n",
    "        X_train_set = tfidf_vectorizer.fit_transform(self.training_text)\n",
    "        Y_train_set = np.array(self.Y_train)\n",
    "        NB = MultinomialNB(alpha = 1.0)\n",
    "        NB.fit(X_train_set.todense(), Y_train_set)\n",
    "        \n",
    "        X_test_set = tfidf_vectorizer.transform(self.testing_text)\n",
    "        Y_predict = NB.predict(X_test_set.todense())\n",
    "        Y_test_set = np.array(self.Y_test)\n",
    "        \n",
    "        print(metrics.classification_report(Y_test_set, Y_predict))\n",
    "        \n",
    "    def train_classifier_random(self):\n",
    "        tfidf_vectorizer = self.cal_tfidf()\n",
    "        X_train_set = tfidf_vectorizer.fit_transform(self.training_text)\n",
    "        Y_train_set = np.array(self.Y_train)\n",
    "        self.classifier  = RandomForestClassifier(n_jobs=-1, max_features=\"sqrt\", n_estimators=256)\n",
    "        self.classifier.fit(X_train_set, Y_train_set)\n",
    "        \n",
    "        X_test_set = tfidf_vectorizer.transform(self.testing_text)\n",
    "        Y_predict = self.classifier.predict(X_test_set)\n",
    "        Y_test_set = np.array(self.Y_test)\n",
    "        \n",
    "        print(metrics.classification_report(Y_test_set, Y_predict))\n",
    "        \n",
    "    def train_classifier_SVM(self):\n",
    "        tfidf_vectorizer = self.cal_tfidf()\n",
    "        X_train_set = tfidf_vectorizer.fit_transform(self.training_text)\n",
    "        Y_train_set = np.array(self.Y_train)\n",
    "        # Perform classification with linear SVM\n",
    "        svc = LinearSVC(C=1.0, max_iter=10000)\n",
    "        svc = svc.fit(X=X_train_set, y=Y_train_set)\n",
    "        \n",
    "        X_test_set = tfidf_vectorizer.transform(self.testing_text)\n",
    "        Y_predict = svc.predict(X=X_test_set)\n",
    "        Y_test_set = np.array(self.Y_test)\n",
    "        \n",
    "        print(metrics.classification_report(Y_test_set, Y_predict))"
   ]
  },
  {
   "cell_type": "code",
   "execution_count": 8,
   "metadata": {
    "collapsed": false,
    "deletable": true,
    "editable": true
   },
   "outputs": [],
   "source": [
    "questions = TextFeature('questions_nondup.csv')"
   ]
  },
  {
   "cell_type": "code",
   "execution_count": 9,
   "metadata": {
    "collapsed": false,
    "deletable": true,
    "editable": true
   },
   "outputs": [
    {
     "name": "stdout",
     "output_type": "stream",
     "text": [
      "             precision    recall  f1-score   support\n",
      "\n",
      "          1       0.94      0.40      0.57        42\n",
      "         10       0.69      0.62      0.66       106\n",
      "         11       1.00      0.09      0.17        11\n",
      "         12       1.00      0.15      0.26        59\n",
      "         13       0.83      0.12      0.21        42\n",
      "          2       1.00      0.31      0.47        39\n",
      "          3       0.69      0.54      0.61        90\n",
      "          4       0.00      0.00      0.00         7\n",
      "          5       0.76      0.38      0.51        91\n",
      "          6       0.00      0.00      0.00        19\n",
      "          7       0.00      0.00      0.00        18\n",
      "          8       1.00      0.04      0.08        49\n",
      "          9       0.38      0.97      0.55       200\n",
      "\n",
      "avg / total       0.66      0.51      0.46       773\n",
      "\n"
     ]
    },
    {
     "name": "stderr",
     "output_type": "stream",
     "text": [
      "/usr/local/lib/python3.4/dist-packages/sklearn/metrics/classification.py:1113: UndefinedMetricWarning: Precision and F-score are ill-defined and being set to 0.0 in labels with no predicted samples.\n",
      "  'precision', 'predicted', average, warn_for)\n"
     ]
    }
   ],
   "source": [
    "questions.train_classifier_naive()"
   ]
  },
  {
   "cell_type": "code",
   "execution_count": 9,
   "metadata": {
    "collapsed": false,
    "deletable": true,
    "editable": true
   },
   "outputs": [
    {
     "name": "stdout",
     "output_type": "stream",
     "text": [
      "             precision    recall  f1-score   support\n",
      "\n",
      "          1       0.78      0.86      0.82        42\n",
      "         10       0.69      0.70      0.69       106\n",
      "         11       1.00      0.64      0.78        11\n",
      "         12       0.88      0.47      0.62        59\n",
      "         13       0.59      0.45      0.51        42\n",
      "          2       0.97      0.74      0.84        39\n",
      "          3       0.72      0.64      0.68        90\n",
      "          4       0.33      0.14      0.20         7\n",
      "          5       0.68      0.63      0.65        91\n",
      "          6       1.00      0.37      0.54        19\n",
      "          7       0.83      0.56      0.67        18\n",
      "          8       0.92      0.47      0.62        49\n",
      "          9       0.56      0.86      0.68       200\n",
      "\n",
      "avg / total       0.71      0.68      0.67       773\n",
      "\n"
     ]
    }
   ],
   "source": [
    "questions.train_classifier_random()"
   ]
  },
  {
   "cell_type": "code",
   "execution_count": 10,
   "metadata": {
    "collapsed": false,
    "deletable": true,
    "editable": true
   },
   "outputs": [
    {
     "name": "stdout",
     "output_type": "stream",
     "text": [
      "             precision    recall  f1-score   support\n",
      "\n",
      "          1       0.92      0.81      0.86        42\n",
      "         10       0.74      0.77      0.76       106\n",
      "         11       0.80      0.73      0.76        11\n",
      "         12       0.82      0.53      0.64        59\n",
      "         13       0.74      0.67      0.70        42\n",
      "          2       0.94      0.82      0.88        39\n",
      "          3       0.73      0.73      0.73        90\n",
      "          4       0.67      0.57      0.62         7\n",
      "          5       0.65      0.68      0.67        91\n",
      "          6       0.78      0.37      0.50        19\n",
      "          7       0.60      0.33      0.43        18\n",
      "          8       0.74      0.53      0.62        49\n",
      "          9       0.66      0.85      0.74       200\n",
      "\n",
      "avg / total       0.73      0.72      0.71       773\n",
      "\n"
     ]
    }
   ],
   "source": [
    "questions.train_classifier_SVM()"
   ]
  },
  {
   "cell_type": "code",
   "execution_count": null,
   "metadata": {
    "collapsed": true,
    "deletable": true,
    "editable": true
   },
   "outputs": [],
   "source": []
  }
 ],
 "metadata": {
  "kernelspec": {
   "display_name": "Python 3",
   "language": "python",
   "name": "python3"
  },
  "language_info": {
   "codemirror_mode": {
    "name": "ipython",
    "version": 3
   },
   "file_extension": ".py",
   "mimetype": "text/x-python",
   "name": "python",
   "nbconvert_exporter": "python",
   "pygments_lexer": "ipython3",
   "version": "3.4.3"
  }
 },
 "nbformat": 4,
 "nbformat_minor": 2
}
